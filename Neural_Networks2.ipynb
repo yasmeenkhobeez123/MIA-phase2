{
  "nbformat": 4,
  "nbformat_minor": 0,
  "metadata": {
    "colab": {
      "provenance": []
    },
    "kernelspec": {
      "name": "python3",
      "display_name": "Python 3"
    },
    "language_info": {
      "name": "python"
    }
  },
  "cells": [
    {
      "cell_type": "markdown",
      "source": [
        "1. Neural Network from Scratch:"
      ],
      "metadata": {
        "id": "YT_zzAR47D5Q"
      }
    },
    {
      "cell_type": "code",
      "source": [
        "import numpy as np\n",
        "import matplotlib.pyplot as plt\n",
        "from sklearn.datasets import fetch_openml\n",
        "from sklearn.model_selection import train_test_split\n",
        "from sklearn.preprocessing import StandardScaler\n",
        "\n",
        "# Load MNIST dataset with the updated parser\n",
        "mnist = fetch_openml('mnist_784', parser='auto')\n",
        "X, y = mnist['data'], mnist['target'].astype(int)\n",
        "\n",
        "# Standardize the features\n",
        "scaler = StandardScaler()\n",
        "X_scaled = scaler.fit_transform(X)\n",
        "\n",
        "# Split data into training and test sets\n",
        "X_train, X_test, y_train, y_test = train_test_split(X_scaled, y, test_size=0.2, random_state=42)\n",
        "\n",
        "\n",
        "\n",
        "\n",
        "class ImprovedNeuralNetwork:\n",
        "    def __init__(self, input_size, hidden_size, output_size):\n",
        "        # Initialize weights and biases with He initialization\n",
        "        self.W1 = np.random.randn(input_size, hidden_size) * np.sqrt(2. / input_size)\n",
        "        self.b1 = np.zeros((1, hidden_size))\n",
        "        self.W2 = np.random.randn(hidden_size, output_size) * np.sqrt(2. / hidden_size)\n",
        "        self.b2 = np.zeros((1, output_size))\n",
        "\n",
        "    def relu(self, z):\n",
        "        return np.maximum(0, z)\n",
        "\n",
        "    def relu_derivative(self, z):\n",
        "        return (z > 0).astype(float)\n",
        "\n",
        "    def softmax(self, z):\n",
        "        exp_z = np.exp(z - np.max(z, axis=1, keepdims=True))\n",
        "        return exp_z / exp_z.sum(axis=1, keepdims=True)\n",
        "\n",
        "    def cross_entropy_loss(self, y_pred, y_true):\n",
        "        m = y_true.shape[0]\n",
        "        return -np.sum(np.log(y_pred[np.arange(m), y_true])) / m\n",
        "\n",
        "    def forward(self, X):\n",
        "        self.z1 = np.dot(X, self.W1) + self.b1\n",
        "        self.a1 = self.relu(self.z1)\n",
        "        self.z2 = np.dot(self.a1, self.W2) + self.b2\n",
        "        self.a2 = self.softmax(self.z2)\n",
        "        return self.a2\n",
        "\n",
        "    def backward(self, X, y_true, learning_rate=0.1):\n",
        "        m = y_true.shape[0]\n",
        "\n",
        "        # Compute gradients\n",
        "        delta2 = self.a2\n",
        "        delta2[np.arange(m), y_true] -= 1\n",
        "        delta2 /= m\n",
        "\n",
        "        dW2 = np.dot(self.a1.T, delta2)\n",
        "        db2 = np.sum(delta2, axis=0, keepdims=True)\n",
        "\n",
        "        delta1 = np.dot(delta2, self.W2.T) * self.relu_derivative(self.z1)\n",
        "        dW1 = np.dot(X.T, delta1)\n",
        "        db1 = np.sum(delta1, axis=0, keepdims=True)\n",
        "\n",
        "        # Update weights and biases\n",
        "        self.W1 -= learning_rate * dW1\n",
        "        self.b1 -= learning_rate * db1\n",
        "        self.W2 -= learning_rate * dW2\n",
        "        self.b2 -= learning_rate * db2\n",
        "\n",
        "    def train(self, X_train, y_train, epochs=100, learning_rate=0.1):\n",
        "        for epoch in range(epochs):\n",
        "            y_pred = self.forward(X_train)\n",
        "            loss = self.cross_entropy_loss(y_pred, y_train)\n",
        "            self.backward(X_train, y_train, learning_rate)\n",
        "            if epoch % 10 == 0:\n",
        "                print(f'Epoch {epoch}: Loss = {loss}')\n",
        "\n",
        "    def predict(self, X):\n",
        "        y_pred = self.forward(X)\n",
        "        return np.argmax(y_pred, axis=1)\n",
        "\n",
        "\n",
        "\n",
        "\n",
        "input_size = 784  # 28x28 pixels\n",
        "hidden_size = 64\n",
        "output_size = 10  # Digits 0-9\n",
        "\n",
        "# Initialize and train the neural network\n",
        "nn = ImprovedNeuralNetwork(input_size=784, hidden_size=64, output_size=10)\n",
        "nn.train(X_train, y_train, epochs=100, learning_rate=0.1)\n",
        "\n",
        "\n",
        "\n",
        "# Evaluate the model\n",
        "y_pred = nn.predict(X_test)\n",
        "accuracy = np.mean(y_pred == y_test)\n",
        "print(f'Test accuracy: {accuracy * 100:.2f}%')\n",
        "\n"
      ],
      "metadata": {
        "colab": {
          "base_uri": "https://localhost:8080/"
        },
        "id": "WQshRqRy21bE",
        "outputId": "40e1343b-a09c-4474-dce5-68e65b036482"
      },
      "execution_count": 3,
      "outputs": [
        {
          "output_type": "stream",
          "name": "stdout",
          "text": [
            "Epoch 0: Loss = 3.015470190123657\n",
            "Epoch 10: Loss = 0.9480035911413923\n",
            "Epoch 20: Loss = 0.6486581371920429\n",
            "Epoch 30: Loss = 0.5285277409028137\n",
            "Epoch 40: Loss = 0.46217202915728584\n",
            "Epoch 50: Loss = 0.4188946931900287\n",
            "Epoch 60: Loss = 0.3877331350408779\n",
            "Epoch 70: Loss = 0.3639294080318575\n",
            "Epoch 80: Loss = 0.3448635350088612\n",
            "Epoch 90: Loss = 0.32906870648465814\n",
            "Test accuracy: 90.64%\n"
          ]
        }
      ]
    },
    {
      "cell_type": "markdown",
      "source": [
        "2. Build with PyTorch"
      ],
      "metadata": {
        "id": "j0uB908A7dSL"
      }
    },
    {
      "cell_type": "code",
      "source": [
        "import torch\n",
        "import torch.nn as nn\n",
        "import torch.optim as optim\n",
        "from torch.utils.data import DataLoader, TensorDataset\n",
        "\n",
        "class PyTorchNN(nn.Module):\n",
        "    def __init__(self):\n",
        "        super(PyTorchNN, self).__init__()\n",
        "        self.fc1 = nn.Linear(784, 64)\n",
        "        self.fc2 = nn.Linear(64, 10)\n",
        "        self.relu = nn.ReLU()\n",
        "        self.softmax = nn.Softmax(dim=1)\n",
        "\n",
        "    def forward(self, x):\n",
        "        x = self.relu(self.fc1(x))\n",
        "        x = self.fc2(x)\n",
        "        return self.softmax(x)\n",
        "\n",
        "  # Convert data to PyTorch tensors\n",
        "X_train_tensor = torch.tensor(X_train, dtype=torch.float32)\n",
        "y_train_tensor = torch.tensor(y_train.values, dtype=torch.long)\n",
        "X_test_tensor = torch.tensor(X_test, dtype=torch.float32)\n",
        "y_test_tensor = torch.tensor(y_test.values, dtype=torch.long)\n",
        "\n",
        "# Create DataLoader for training data\n",
        "train_dataset = TensorDataset(X_train_tensor, y_train_tensor)\n",
        "train_loader = DataLoader(train_dataset, batch_size=64, shuffle=True)\n",
        "\n",
        "# Initialize the model, loss function, and optimizer\n",
        "model = PyTorchNN()\n",
        "criterion = nn.CrossEntropyLoss()\n",
        "optimizer = optim.SGD(model.parameters(), lr=0.1)\n",
        "\n",
        "# Training loop\n",
        "for epoch in range(100):\n",
        "    model.train()\n",
        "    for X_batch, y_batch in train_loader:\n",
        "        optimizer.zero_grad()\n",
        "        y_pred = model(X_batch)\n",
        "        loss = criterion(y_pred, y_batch)\n",
        "        loss.backward()\n",
        "        optimizer.step()\n",
        "\n",
        "    if epoch % 10 == 0:\n",
        "        print(f'Epoch {epoch}: Loss = {loss.item()}')\n",
        "# Evaluate the model\n",
        "model.eval()\n",
        "with torch.no_grad():\n",
        "    y_pred = model(X_test_tensor)\n",
        "    y_pred_class = torch.argmax(y_pred, dim=1)\n",
        "    accuracy = (y_pred_class == y_test_tensor).float().mean()\n",
        "    print(f'Test accuracy: {accuracy.item() * 100:.2f}%')\n",
        "\n"
      ],
      "metadata": {
        "colab": {
          "base_uri": "https://localhost:8080/"
        },
        "id": "2TYKBH3C55Sn",
        "outputId": "cc1c68e0-5104-4106-9046-05e1ea073075"
      },
      "execution_count": 7,
      "outputs": [
        {
          "output_type": "stream",
          "name": "stdout",
          "text": [
            "Epoch 0: Loss = 1.5678085088729858\n",
            "Epoch 10: Loss = 1.5043786764144897\n",
            "Epoch 20: Loss = 1.4810359477996826\n",
            "Epoch 30: Loss = 1.4700003862380981\n",
            "Epoch 40: Loss = 1.4614520072937012\n",
            "Epoch 50: Loss = 1.4771428108215332\n",
            "Epoch 60: Loss = 1.4617832899093628\n",
            "Epoch 70: Loss = 1.461221694946289\n",
            "Epoch 80: Loss = 1.4613761901855469\n",
            "Epoch 90: Loss = 1.4770283699035645\n",
            "Test accuracy: 96.69%\n"
          ]
        }
      ]
    }
  ]
}